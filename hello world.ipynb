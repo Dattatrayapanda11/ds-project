{
 "cells": [
  {
   "cell_type": "code",
   "execution_count": 1,
   "id": "3cb6a518",
   "metadata": {},
   "outputs": [
    {
     "name": "stdout",
     "output_type": "stream",
     "text": [
      "Hellow World\n"
     ]
    }
   ],
   "source": [
    "print(\"Hellow World\")"
   ]
  },
  {
   "cell_type": "code",
   "execution_count": 6,
   "id": "f109346e",
   "metadata": {},
   "outputs": [
    {
     "name": "stdout",
     "output_type": "stream",
     "text": [
      "10\n",
      "x\n"
     ]
    }
   ],
   "source": [
    "x=10\n",
    "print(x)\n",
    "print('x')"
   ]
  },
  {
   "cell_type": "code",
   "execution_count": 8,
   "id": "b6da0a25",
   "metadata": {},
   "outputs": [
    {
     "name": "stdout",
     "output_type": "stream",
     "text": [
      "x= 10\n"
     ]
    }
   ],
   "source": [
    "print('x=' ,x)"
   ]
  },
  {
   "cell_type": "code",
   "execution_count": 9,
   "id": "1bdef02c",
   "metadata": {},
   "outputs": [
    {
     "name": "stdout",
     "output_type": "stream",
     "text": [
      "11\n"
     ]
    }
   ],
   "source": [
    "x=11\n",
    "print(x)"
   ]
  },
  {
   "cell_type": "code",
   "execution_count": 10,
   "id": "f4997290",
   "metadata": {},
   "outputs": [
    {
     "name": "stdout",
     "output_type": "stream",
     "text": [
      "x\n"
     ]
    }
   ],
   "source": [
    "print('x')"
   ]
  },
  {
   "cell_type": "code",
   "execution_count": null,
   "id": "db8a50d4",
   "metadata": {},
   "outputs": [],
   "source": []
  }
 ],
 "metadata": {
  "kernelspec": {
   "display_name": "Python 3 (ipykernel)",
   "language": "python",
   "name": "python3"
  },
  "language_info": {
   "codemirror_mode": {
    "name": "ipython",
    "version": 3
   },
   "file_extension": ".py",
   "mimetype": "text/x-python",
   "name": "python",
   "nbconvert_exporter": "python",
   "pygments_lexer": "ipython3",
   "version": "3.9.7"
  }
 },
 "nbformat": 4,
 "nbformat_minor": 5
}
